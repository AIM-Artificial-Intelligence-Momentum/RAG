{
 "cells": [
  {
   "cell_type": "code",
   "execution_count": null,
   "metadata": {},
   "outputs": [],
   "source": [
    "import gradio as gr\n",
    "import random\n",
    "import time\n",
    "import requests\n",
    "\n",
    "def request_gpt(prompt):\n",
    "# 1. endpoint\n",
    "    endpoint = \"\"\n",
    "    # 2. header\n",
    "    headers = {\n",
    "        \"Content-Type\":\"application/json\",\n",
    "        \"api-key\":\"\"\n",
    "    }\n",
    "    #body\n",
    "    body = {\n",
    "        \"messages\": [\n",
    "            {\n",
    "                \"role\": \"system\",\n",
    "                \"content\": \"너는 여행전문가야.\"\n",
    "            },\n",
    "            {\n",
    "                \"role\": \"assistant\",\n",
    "                \"content\": \"네 ~\"\n",
    "            },            \n",
    "            {\n",
    "                \"role\": \"user\",\n",
    "                \"content\":  prompt\n",
    "            },\n",
    "        ],\n",
    "        \"temperature\": 0.7,\n",
    "        \"top_p\": 0.95,\n",
    "        \"max_tokens\": 800,\n",
    "    }\n",
    "    response = requests.post(endpoint, headers=headers, json=body)\n",
    "        \n",
    "    if response.status_code == 200:\n",
    "        response_json = response.json()\n",
    "        bot_message = response_json[\"choices\"][0][\"message\"]['content']\n",
    "        return bot_message\n",
    "    else: \n",
    "        # print(\"requests faild\")\n",
    "        return \"requests faild\"\n",
    "\n",
    "\n",
    "def click_send(input_message, chat_history ):\n",
    "    print(input_message)\n",
    "    print(chat_history)\n",
    "    bot_message = request_gpt(input_message)\n",
    "    chat_history.append((input_message, bot_message))\n",
    "    return \"\", chat_history\n",
    "\n",
    "with gr.Blocks() as demo:\n",
    "\n",
    "    chatbot = gr.Chatbot()\n",
    "\n",
    "    with gr.Row():\n",
    "        input_textbox = gr.Textbox(label=\"\", placeholder=\"채팅을 입력하세요.\") # 이름\n",
    "        submit_button = gr.Button(\"전송\") # 출력버튼\n",
    "        msg = input_textbox\n",
    "        delete_button = gr.ClearButton([msg, chatbot])\n",
    "\n",
    "    submit_button.click(fn=click_send, inputs=[input_textbox, chatbot], outputs=[input_textbox, chatbot])\n",
    "    input_textbox.submit(fn=click_send, inputs=[input_textbox, chatbot], outputs=[input_textbox, chatbot])\n",
    "\n",
    "\n",
    "if __name__ == \"__main__\":\n",
    "    demo.launch()"
   ]
  },
  {
   "cell_type": "code",
   "execution_count": null,
   "metadata": {},
   "outputs": [],
   "source": [
    "chat_history = "
   ]
  }
 ],
 "metadata": {
  "kernelspec": {
   "display_name": "Python 3",
   "language": "python",
   "name": "python3"
  },
  "language_info": {
   "codemirror_mode": {
    "name": "ipython",
    "version": 3
   },
   "file_extension": ".py",
   "mimetype": "text/x-python",
   "name": "python",
   "nbconvert_exporter": "python",
   "pygments_lexer": "ipython3",
   "version": "3.9.13"
  }
 },
 "nbformat": 4,
 "nbformat_minor": 2
}
