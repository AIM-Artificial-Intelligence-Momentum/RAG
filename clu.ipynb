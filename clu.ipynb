{
 "cells": [
  {
   "cell_type": "code",
   "execution_count": 32,
   "metadata": {},
   "outputs": [
    {
     "name": "stdout",
     "output_type": "stream",
     "text": [
      "예산은 3천만 원 정도 있고, 서울에서 3월 말쯤 뮤지컬 하나 해보고 싶어요\n",
      " 추출된 엔터티:\n",
      "- 예산: 3천만 원 (신뢰도: 1.00)\n",
      "- 지역: 서울 (신뢰도: 1.00)\n",
      "- 일정: 3월 말 (신뢰도: 1.00)\n",
      "- 장르: 뮤지컬 (신뢰도: 1.00)\n"
     ]
    }
   ],
   "source": [
    "import requests\n",
    "from dotenv import load_dotenv\n",
    "import os\n",
    "\n",
    "# 환경변수 불러오기\n",
    "load_dotenv()\n",
    "\n",
    "# 환경변수에서 키, 엔드포인트 불러오기\n",
    "endpoint_base = os.getenv(\"clu_endpoint\")  \n",
    "api_key = os.getenv(\"clu_key\")\n",
    "api_id = os.getenv(\"clu_id\")\n",
    "project_name = \"PPCLU\"\n",
    "deployment_name = \"ppv1-test\"\n",
    "\n",
    "\n",
    "# 요청 헤더\n",
    "headers = {\n",
    "    \"Ocp-Apim-Subscription-Key\": api_key,\n",
    "    \"Content-Type\": \"application/json\",\n",
    "    \"Apim-Request-Id\" : api_id\n",
    "}\n",
    "\n",
    "# 요청 본문 (Query)\n",
    "query = {\n",
    "    \"kind\": \"Conversation\",\n",
    "    \"analysisInput\": {\n",
    "        \"conversationItem\": {\n",
    "            \"id\": \"1\",\n",
    "            \"participantId\": \"user\",\n",
    "            \"text\": \"예산은 3천만 원 정도 있고, 서울에서 3월 말쯤 뮤지컬 하나 해보고 싶어요\",\n",
    "            \"modality\": \"text\",\n",
    "            \"language\": \"ko\"\n",
    "        }\n",
    "    },\n",
    "    \"parameters\": {\n",
    "        \"projectName\": project_name,\n",
    "        \"deploymentName\": deployment_name,\n",
    "        \"verbose\": True,\n",
    "        \"stringIndexType\": \"TextElement_V8\"\n",
    "    }\n",
    "}\n",
    "\n",
    "# 응답 보기 좋게 출력하는 함수\n",
    "def pretty_print_clu_result(clu_response):\n",
    "    try:\n",
    "        result = clu_response['result']\n",
    "        prediction = result['prediction']\n",
    "        intent = prediction['topIntent']\n",
    "        entities = prediction.get('entities', [])\n",
    "\n",
    "        print(f'{query[\"analysisInput\"][\"conversationItem\"][\"text\"]}')\n",
    "        print(\" 추출된 엔터티:\")\n",
    "        for ent in entities:\n",
    "            category = ent['category']\n",
    "            text = ent['text']\n",
    "            score = ent.get(\"confidenceScore\", 0)\n",
    "            print(f\"- {category}: {text} (신뢰도: {score:.2f})\")\n",
    "    except Exception as e:\n",
    "        print(\" 오류 발생:\", e)\n",
    "\n",
    "# API 호출\n",
    "response = requests.post(\n",
    "    endpoint_base,\n",
    "    headers=headers,\n",
    "    json=query\n",
    ")\n",
    "\n",
    "# 결과 출력\n",
    "if response.status_code == 200:\n",
    "    pretty_print_clu_result(response.json())\n",
    "else:\n",
    "    print(f\" 요청 실패: {response.status_code}\")\n",
    "    print(response.text)\n"
   ]
  }
 ],
 "metadata": {
  "kernelspec": {
   "display_name": "Python 3",
   "language": "python",
   "name": "python3"
  },
  "language_info": {
   "codemirror_mode": {
    "name": "ipython",
    "version": 3
   },
   "file_extension": ".py",
   "mimetype": "text/x-python",
   "name": "python",
   "nbconvert_exporter": "python",
   "pygments_lexer": "ipython3",
   "version": "3.9.13"
  }
 },
 "nbformat": 4,
 "nbformat_minor": 2
}
